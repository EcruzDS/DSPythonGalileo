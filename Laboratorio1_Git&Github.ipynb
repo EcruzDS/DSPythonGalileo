{
 "cells": [
  {
   "cell_type": "markdown",
   "id": "1c5a604c-8cd9-482a-a589-1e91bf25bce2",
   "metadata": {},
   "source": [
    "# **Universidad Galileo**\n",
    "# **Postgrado en Análisis y Predicción de Datos** - *Primer Ciclo 2024*\n",
    "# **Data Science en Python**\n",
    "# **Alumno:** Elder Cruz. **Carnet:** 23004456\n",
    "# **Laboratorio 1:** Investigación Git y Github"
   ]
  },
  {
   "cell_type": "markdown",
   "id": "f0845903-fa92-4dc7-8451-2df31f54b459",
   "metadata": {
    "tags": []
   },
   "source": [
    "## **1. ¿Qué es Git?**"
   ]
  },
  {
   "cell_type": "markdown",
   "id": "90fc3122-902e-4d5a-9ccf-5c2406f02317",
   "metadata": {
    "tags": []
   },
   "source": [
    "### Git es un sistema de control de versiones distribuido, de código abierto y gratuito, utilizado para el seguimiento de cambios en archivos y proyectos de software.\n",
    "\n",
    "### Permite a los usuarios:\n",
    "\n",
    "### a) Registrar el historial de cambios. \n",
    "- Crea una *copia de seguridad* de cada versión del proyecto, permitiendo retroceder a versiones anteriores si es necesario.\n",
    "\n",
    "### b) Colaborar con otros. \n",
    "- Permite trabajar en equipo de forma eficiente, incluso si los colaboradores no se encuentran en el mismo lugar.\n",
    "\n",
    "### c) Ramificar y fusionar código.  \n",
    "- Permite crear diferentes versiones del proyecto **(ramas)** y luego combinarlas en una sola rama principal.\n",
    "\n",
    "### d) Compartir código.  \n",
    "- Facilita la publicación y descarga de proyectos de código abierto."
   ]
  },
  {
   "cell_type": "markdown",
   "id": "eda0847c-737d-49b2-8aa2-e50920ebad19",
   "metadata": {},
   "source": [
    "## **2. ¿Qué es GitHub?**"
   ]
  },
  {
   "cell_type": "markdown",
   "id": "760b1c04-aed7-434a-b142-5cf6a498705f",
   "metadata": {},
   "source": [
    "### **Github** es una plataforma de alojamiento de código basada en la web que utiliza *Git* para el control de versiones.  Ofrece las siguientes funcionalidades:\n",
    "\n",
    "### a) Alojamiento de repositorios.\n",
    "- Permite almacenar de forma segura y privada los repositorios Git.\n",
    "\n",
    "### b) Colaboración.\n",
    "- Facilita la colaboración en proyectos con otros usuarios, incluso si no tienen una cuenta de Github.\n",
    "\n",
    "### c) Control de acceso.\n",
    "- Permite establecer permisos de acceso para diferentes usuarios y equipos.\n",
    "\n",
    "### d) Gestión de Proyectos.\n",
    "- Ofrece herramientas para la gestión de tareas, seguimiento de errores y wiki del proyecto.\n",
    "\n",
    "### e) Integraciones.\n",
    "- Se integra con otras herramientas de desarrollo y productividad."
   ]
  },
  {
   "cell_type": "markdown",
   "id": "eb464226-84e2-4f0d-b8b7-3afa22447bd8",
   "metadata": {},
   "source": [
    "## **3. Magic Cells**"
   ]
  },
  {
   "cell_type": "markdown",
   "id": "9b60c31d-5621-44d1-bc7b-ce9d335977ec",
   "metadata": {},
   "source": [
    "### MagicCells es una extensión para *Jupyter Notebooks* que permite ejecutar código *Python* dentro de las celdas del notebook. Ofrece las siguientes funcionalidades:\n",
    "\n",
    "### a) Ejecución del código.\n",
    "- Permite ejecutar código Python directamente en las celdas del notebook, sin necesidad de crear un archivo independiente.\n",
    "\n",
    "### b) Visualización de resultados.\n",
    "- Muestra los resultados del código en la misma celda donde se ejecuta.\n",
    "\n",
    "### c) Interactividad.\n",
    "- Permite interactuar con los resultados del código mediante *widgets*.\n",
    "\n",
    "### d) Compartir código.\n",
    "- Facilita la compartición de código con otros usuarios"
   ]
  },
  {
   "cell_type": "markdown",
   "id": "fcdb01b5-6965-42ff-b7d5-0c999747fb34",
   "metadata": {},
   "source": [
    "## **4. Link Repositorio GitHub**"
   ]
  },
  {
   "cell_type": "markdown",
   "id": "a039bcf9-28cd-4efb-8afe-f65d1130d184",
   "metadata": {
    "tags": []
   },
   "source": [
    "### https://github.com/EcruzDS/DSPythonGalileo"
   ]
  }
 ],
 "metadata": {
  "kernelspec": {
   "display_name": "Python 3 (ipykernel)",
   "language": "python",
   "name": "python3"
  },
  "language_info": {
   "codemirror_mode": {
    "name": "ipython",
    "version": 3
   },
   "file_extension": ".py",
   "mimetype": "text/x-python",
   "name": "python",
   "nbconvert_exporter": "python",
   "pygments_lexer": "ipython3",
   "version": "3.11.5"
  }
 },
 "nbformat": 4,
 "nbformat_minor": 5
}
